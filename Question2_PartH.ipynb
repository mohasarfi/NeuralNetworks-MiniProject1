{
  "nbformat": 4,
  "nbformat_minor": 0,
  "metadata": {
    "colab": {
      "name": "Question2_PartH.ipynb",
      "provenance": [],
      "collapsed_sections": []
    },
    "kernelspec": {
      "name": "python3",
      "display_name": "Python 3"
    },
    "accelerator": "GPU"
  },
  "cells": [
    {
      "cell_type": "code",
      "metadata": {
        "id": "kNGzV5VtUCGY"
      },
      "source": [
        "import numpy as np\n",
        "from tensorflow.keras.layers import GlobalAveragePooling2D\n",
        "from tensorflow.keras.models import Model\n",
        "from tensorflow.keras.preprocessing import image\n",
        "from tensorflow.keras.models import Model\n",
        "from tensorflow.keras.layers import Dense, GlobalAveragePooling2D\n",
        "from keras.optimizers import SGD\n",
        "import matplotlib.pyplot as plt\n",
        "from keras.utils import to_categorical\n",
        "from keras.preprocessing import image\n",
        "from keras.applications.inception_v3 import preprocess_input\n",
        "import os"
      ],
      "execution_count": null,
      "outputs": []
    },
    {
      "cell_type": "code",
      "metadata": {
        "colab": {
          "base_uri": "https://localhost:8080/"
        },
        "id": "6vGmAOPpU4PO",
        "outputId": "a685adda-9a7b-4017-e3e9-88ae9a95924e"
      },
      "source": [
        "from google.colab import drive\n",
        "drive.mount('/content/drive/')"
      ],
      "execution_count": null,
      "outputs": [
        {
          "output_type": "stream",
          "text": [
            "Mounted at /content/drive/\n"
          ],
          "name": "stdout"
        }
      ]
    },
    {
      "cell_type": "markdown",
      "metadata": {
        "id": "dpFr04rkU5qk"
      },
      "source": [
        "Importing Dataset and Train and Test data"
      ]
    },
    {
      "cell_type": "code",
      "metadata": {
        "id": "cI7lkfelU4xn"
      },
      "source": [
        "x_train = []\n",
        "y_train = [0]*200 + [1]*200\n",
        "y_train = np.array(y_train)\n",
        "label_list = ['Mango','Peach']\n",
        "y_train = to_categorical(y_train,2)\n",
        "\n",
        "#=======================train data=====================================\n",
        "\n",
        "inputshape  = (299,299)\n",
        "path = r'/content/drive/MyDrive/Fruit_data_set/Train/Mango'\n",
        "for file in os.listdir(path):\n",
        "  filename = os.path.join(path,file)\n",
        "  myimg = image.load_img(filename,target_size = inputshape)\n",
        "  myimg = image.img_to_array(myimg)\n",
        "  myimg = np.expand_dims(myimg , axis = 0)\n",
        "  myimg = preprocess_input(myimg)\n",
        "  x_train.append(myimg)\n",
        "\n",
        "inputshape  = (299,299)\n",
        "path = r'/content/drive/MyDrive/Fruit_data_set/Train/Peach'\n",
        "for file in os.listdir(path):\n",
        "  filename = os.path.join(path,file)\n",
        "  myimg = image.load_img(filename,target_size = inputshape)\n",
        "  myimg = image.img_to_array(myimg)\n",
        "  myimg = np.expand_dims(myimg , axis = 0)\n",
        "  myimg = preprocess_input(myimg)\n",
        "  x_train.append(myimg)\n",
        "\n",
        "x_train = np.array(x_train)\n",
        "x_train.shape\n",
        "x_train = x_train.reshape(400,299,299,3)\n",
        "\n",
        "#=======================test data=====================================\n",
        "x_test = []\n",
        "y_test = []\n",
        "inputshape  = (299,299)\n",
        "path = r'/content/drive/MyDrive/Fruit_data_set/Test/Mango'\n",
        "for file in os.listdir(path):\n",
        "  filename = os.path.join(path,file)\n",
        "  myimg = image.load_img(filename,target_size = inputshape)\n",
        "  myimg = image.img_to_array(myimg)\n",
        "  myimg = np.expand_dims(myimg , axis = 0)\n",
        "  myimg = preprocess_input(myimg)\n",
        "  x_test.append(myimg)\n",
        "\n",
        "path = r'/content/drive/MyDrive/Fruit_data_set/Test/Peach'\n",
        "for file in os.listdir(path):\n",
        "  filename = os.path.join(path,file)\n",
        "  myimg = image.load_img(filename,target_size = inputshape)\n",
        "  myimg = image.img_to_array(myimg)\n",
        "  myimg = np.expand_dims(myimg , axis = 0)\n",
        "  myimg = preprocess_input(myimg)\n",
        "  x_test.append(myimg)\n",
        "\n",
        "y_test = 100*[0] + 100*[1]\n",
        "y_test = np.array(y_test)\n",
        "y_test = to_categorical(y_test,2)\n",
        "\n",
        "x_test = np.array(x_test)\n",
        "x_test.shape\n",
        "x_test = x_test.reshape(200,299,299,3)"
      ],
      "execution_count": null,
      "outputs": []
    },
    {
      "cell_type": "markdown",
      "metadata": {
        "id": "87XwuNMGV4ca"
      },
      "source": [
        "Importing InceptionV3 and building the new model"
      ]
    },
    {
      "cell_type": "code",
      "metadata": {
        "colab": {
          "base_uri": "https://localhost:8080/"
        },
        "id": "4bLDneeTVm2Z",
        "outputId": "077de8a2-4244-465d-8a95-c3bb00d7c5bf"
      },
      "source": [
        "from tensorflow.keras.applications.inception_v3 import InceptionV3\n",
        "\n",
        "base_model = InceptionV3(weights='imagenet', include_top=False)\n",
        "\n",
        "x = base_model.output\n",
        "x = GlobalAveragePooling2D()(x)\n",
        "x = Dense(1024, activation='relu')(x)\n",
        "predictions = Dense(2, activation='softmax')(x) #number of classes = 2\n",
        "\n",
        "model = Model(inputs=base_model.input, outputs=predictions)\n",
        "\n",
        "for layer in base_model.layers:#Freezeing the layers\n",
        "    layer.trainable = False\n",
        "\n",
        "model.compile(optimizer='rmsprop', loss='categorical_crossentropy',metrics = ['acc'])\n",
        "\n",
        "#training the model with the new dataset\n",
        "opt = SGD(lr = 0.0001 , momentum = 0.9)\n",
        "hist = model.fit(x_train,y_train,validation_split = 0.2,epochs = 5 ,batch_size=10)\n"
      ],
      "execution_count": null,
      "outputs": [
        {
          "output_type": "stream",
          "text": [
            "Downloading data from https://storage.googleapis.com/tensorflow/keras-applications/inception_v3/inception_v3_weights_tf_dim_ordering_tf_kernels_notop.h5\n",
            "87916544/87910968 [==============================] - 1s 0us/step\n",
            "Epoch 1/5\n",
            "31/32 [============================>.] - ETA: 0s - loss: 0.5378 - acc: 0.9323WARNING:tensorflow:Callbacks method `on_test_batch_end` is slow compared to the batch time (batch time: 0.0115s vs `on_test_batch_end` time: 0.0320s). Check your callbacks.\n",
            "32/32 [==============================] - 3s 89ms/step - loss: 0.5210 - acc: 0.9344 - val_loss: 0.0019 - val_acc: 1.0000\n",
            "Epoch 2/5\n",
            "32/32 [==============================] - 2s 57ms/step - loss: 5.8853e-04 - acc: 1.0000 - val_loss: 4.1624e-04 - val_acc: 1.0000\n",
            "Epoch 3/5\n",
            "32/32 [==============================] - 2s 57ms/step - loss: 1.9576e-04 - acc: 1.0000 - val_loss: 1.2589e-05 - val_acc: 1.0000\n",
            "Epoch 4/5\n",
            "32/32 [==============================] - 2s 57ms/step - loss: 1.4386e-05 - acc: 1.0000 - val_loss: 7.1418e-06 - val_acc: 1.0000\n",
            "Epoch 5/5\n",
            "32/32 [==============================] - 2s 57ms/step - loss: 4.4061e-06 - acc: 1.0000 - val_loss: 2.7477e-06 - val_acc: 1.0000\n"
          ],
          "name": "stdout"
        }
      ]
    },
    {
      "cell_type": "markdown",
      "metadata": {
        "id": "-ONJ4lYDWebj"
      },
      "source": [
        "Plotting results and evaluating"
      ]
    },
    {
      "cell_type": "code",
      "metadata": {
        "colab": {
          "base_uri": "https://localhost:8080/",
          "height": 312
        },
        "id": "-WjAvLOkWgqp",
        "outputId": "6dce1e3d-c61d-4939-a12d-ada95e396d17"
      },
      "source": [
        "\n",
        "plt.plot(hist.history['acc'])\n",
        "plt.plot(hist.history['val_acc'])\n",
        "plt.grid()\n",
        "plt.title(\"Model accuracy\")\n",
        "plt.xlabel('epoch')\n",
        "plt.ylabel('acc')\n",
        "plt.legend(['train','validation'],loc='lower right')"
      ],
      "execution_count": null,
      "outputs": [
        {
          "output_type": "execute_result",
          "data": {
            "text/plain": [
              "<matplotlib.legend.Legend at 0x7f5780d09278>"
            ]
          },
          "metadata": {
            "tags": []
          },
          "execution_count": 5
        },
        {
          "output_type": "display_data",
          "data": {
            "image/png": "[encoded data removed]",
            "text/plain": [
              "<Figure size 432x288 with 1 Axes>"
            ]
          },
          "metadata": {
            "tags": [],
            "needs_background": "light"
          }
        }
      ]
    },
    {
      "cell_type": "code",
      "metadata": {
        "colab": {
          "base_uri": "https://localhost:8080/",
          "height": 312
        },
        "id": "kA8M2n8BWjng",
        "outputId": "7a7a8b6a-e9a4-4c16-8550-dfe4622e7dfb"
      },
      "source": [
        "plt.plot(hist.history['loss'])\n",
        "plt.plot(hist.history['val_loss'])\n",
        "plt.grid()\n",
        "plt.title(\"Model Loss\")\n",
        "plt.xlabel('epoch')\n",
        "plt.ylabel('Loss')\n",
        "plt.legend(['train','validation'],loc='upper right')"
      ],
      "execution_count": null,
      "outputs": [
        {
          "output_type": "execute_result",
          "data": {
            "text/plain": [
              "<matplotlib.legend.Legend at 0x7f57807f2f60>"
            ]
          },
          "metadata": {
            "tags": []
          },
          "execution_count": 6
        },
        {
          "output_type": "display_data",
          "data": {
            "image/png": "[encoded data removed]",
            "text/plain": [
              "<Figure size 432x288 with 1 Axes>"
            ]
          },
          "metadata": {
            "tags": [],
            "needs_background": "light"
          }
        }
      ]
    },
    {
      "cell_type": "code",
      "metadata": {
        "colab": {
          "base_uri": "https://localhost:8080/"
        },
        "id": "16uZj70oWpf1",
        "outputId": "a3757ff8-881c-4e35-e638-48df79158d32"
      },
      "source": [
        "model.evaluate(x_test,y_test)"
      ],
      "execution_count": null,
      "outputs": [
        {
          "output_type": "stream",
          "text": [
            "7/7 [==============================] - 1s 160ms/step - loss: 5.7076e-05 - acc: 1.0000\n"
          ],
          "name": "stdout"
        },
        {
          "output_type": "execute_result",
          "data": {
            "text/plain": [
              "[5.7076187658822164e-05, 1.0]"
            ]
          },
          "metadata": {
            "tags": []
          },
          "execution_count": 7
        }
      ]
    }
  ]
}